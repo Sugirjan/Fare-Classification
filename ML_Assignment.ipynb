{
  "nbformat": 4,
  "nbformat_minor": 0,
  "metadata": {
    "colab": {
      "name": "ML_Assignment.ipynb",
      "provenance": [],
      "authorship_tag": "ABX9TyNclH3j+A8iW7PHHudyXI4A",
      "include_colab_link": true
    },
    "kernelspec": {
      "name": "python3",
      "display_name": "Python 3"
    }
  },
  "cells": [
    {
      "cell_type": "markdown",
      "metadata": {
        "id": "view-in-github",
        "colab_type": "text"
      },
      "source": [
        "<a href=\"https://colab.research.google.com/github/Sugirjan/Fare-Classification/blob/master/ML_Assignment.ipynb\" target=\"_parent\"><img src=\"https://colab.research.google.com/assets/colab-badge.svg\" alt=\"Open In Colab\"/></a>"
      ]
    },
    {
      "cell_type": "code",
      "metadata": {
        "id": "CSxWNuW7YKX0",
        "colab_type": "code",
        "colab": {
          "base_uri": "https://localhost:8080/",
          "height": 72
        },
        "outputId": "d3b1a8b0-f2e8-408a-8046-5f60bf6a61ba"
      },
      "source": [
        "import pandas as pd\n",
        "import numpy as np\n",
        "from google.colab import drive\n",
        "from scipy.stats import randint\n",
        "from google.colab import files\n",
        "\n",
        "import matplotlib.pyplot as plt\n",
        "import seaborn as sns\n",
        "\n",
        "from sklearn.neighbors import KNeighborsClassifier\n",
        "from sklearn.linear_model import LinearRegression\n",
        "from sklearn.linear_model import LogisticRegression\n",
        "from sklearn.linear_model import Ridge\n",
        "from sklearn.tree import DecisionTreeClassifier\n",
        "from sklearn.svm import SVC\n",
        "from sklearn.ensemble import RandomForestClassifier\n",
        "from sklearn.ensemble import GradientBoostingClassifier\n",
        "from sklearn.ensemble import ExtraTreesClassifier\n",
        "from sklearn.ensemble import RandomForestRegressor\n",
        "from sklearn.svm import LinearSVC\n",
        "from sklearn.linear_model import SGDClassifier\n",
        "\n",
        "from sklearn.pipeline import Pipeline\n",
        "from sklearn.preprocessing import StandardScaler\n",
        "\n",
        "from sklearn.feature_selection import SelectFromModel\n",
        "from sklearn.feature_selection import RFE\n",
        "from sklearn.feature_selection import RFECV\n",
        "\n",
        "from sklearn.model_selection import train_test_split\n",
        "from sklearn.model_selection import GridSearchCV\n",
        "from sklearn.model_selection import RandomizedSearchCV\n",
        "\n",
        "from sklearn.metrics import f1_score"
      ],
      "execution_count": 1,
      "outputs": [
        {
          "output_type": "stream",
          "text": [
            "/usr/local/lib/python3.6/dist-packages/statsmodels/tools/_testing.py:19: FutureWarning: pandas.util.testing is deprecated. Use the functions in the public API at pandas.testing instead.\n",
            "  import pandas.util.testing as tm\n"
          ],
          "name": "stderr"
        }
      ]
    },
    {
      "cell_type": "code",
      "metadata": {
        "id": "xlv_x6CLYaC8",
        "colab_type": "code",
        "colab": {
          "base_uri": "https://localhost:8080/",
          "height": 125
        },
        "outputId": "a5753ad1-4deb-4c85-84d9-ab0d79ce3eb0"
      },
      "source": [
        "drive.mount('/content/drive')"
      ],
      "execution_count": 2,
      "outputs": [
        {
          "output_type": "stream",
          "text": [
            "Go to this URL in a browser: https://accounts.google.com/o/oauth2/auth?client_id=947318989803-6bn6qk8qdgf4n4g3pfee6491hc0brc4i.apps.googleusercontent.com&redirect_uri=urn%3aietf%3awg%3aoauth%3a2.0%3aoob&response_type=code&scope=email%20https%3a%2f%2fwww.googleapis.com%2fauth%2fdocs.test%20https%3a%2f%2fwww.googleapis.com%2fauth%2fdrive%20https%3a%2f%2fwww.googleapis.com%2fauth%2fdrive.photos.readonly%20https%3a%2f%2fwww.googleapis.com%2fauth%2fpeopleapi.readonly\n",
            "\n",
            "Enter your authorization code:\n",
            "··········\n",
            "Mounted at /content/drive\n"
          ],
          "name": "stdout"
        }
      ]
    },
    {
      "cell_type": "code",
      "metadata": {
        "id": "dtP5iyUiYlKf",
        "colab_type": "code",
        "colab": {
          "base_uri": "https://localhost:8080/",
          "height": 390
        },
        "outputId": "b00fb90e-acf2-49c9-f1de-8f49494f44ae"
      },
      "source": [
        "df = pd.read_csv('/content/drive/My Drive/MLAssignment/train.csv');\n",
        "df.info()"
      ],
      "execution_count": 28,
      "outputs": [
        {
          "output_type": "stream",
          "text": [
            "<class 'pandas.core.frame.DataFrame'>\n",
            "RangeIndex: 17176 entries, 0 to 17175\n",
            "Data columns (total 14 columns):\n",
            " #   Column                     Non-Null Count  Dtype  \n",
            "---  ------                     --------------  -----  \n",
            " 0   tripid                     17176 non-null  int64  \n",
            " 1   additional_fare            16974 non-null  float64\n",
            " 2   duration                   16974 non-null  float64\n",
            " 3   meter_waiting              16974 non-null  float64\n",
            " 4   meter_waiting_fare         16974 non-null  float64\n",
            " 5   meter_waiting_till_pickup  16974 non-null  float64\n",
            " 6   pickup_time                17176 non-null  object \n",
            " 7   drop_time                  17176 non-null  object \n",
            " 8   pick_lat                   17176 non-null  float64\n",
            " 9   pick_lon                   17176 non-null  float64\n",
            " 10  drop_lat                   17176 non-null  float64\n",
            " 11  drop_lon                   17176 non-null  float64\n",
            " 12  fare                       17039 non-null  float64\n",
            " 13  label                      17176 non-null  object \n",
            "dtypes: float64(10), int64(1), object(3)\n",
            "memory usage: 1.8+ MB\n"
          ],
          "name": "stdout"
        }
      ]
    },
    {
      "cell_type": "markdown",
      "metadata": {
        "id": "6iMvSgNByGxz",
        "colab_type": "text"
      },
      "source": [
        "Drop missing values"
      ]
    },
    {
      "cell_type": "code",
      "metadata": {
        "id": "2JmyD5-sdzei",
        "colab_type": "code",
        "colab": {
          "base_uri": "https://localhost:8080/",
          "height": 390
        },
        "outputId": "3b169d05-0b55-46b2-f434-27bb86f8000d"
      },
      "source": [
        "# Drop null values\n",
        "data = df.dropna()\n",
        "data.info()"
      ],
      "execution_count": 29,
      "outputs": [
        {
          "output_type": "stream",
          "text": [
            "<class 'pandas.core.frame.DataFrame'>\n",
            "Int64Index: 16968 entries, 0 to 17175\n",
            "Data columns (total 14 columns):\n",
            " #   Column                     Non-Null Count  Dtype  \n",
            "---  ------                     --------------  -----  \n",
            " 0   tripid                     16968 non-null  int64  \n",
            " 1   additional_fare            16968 non-null  float64\n",
            " 2   duration                   16968 non-null  float64\n",
            " 3   meter_waiting              16968 non-null  float64\n",
            " 4   meter_waiting_fare         16968 non-null  float64\n",
            " 5   meter_waiting_till_pickup  16968 non-null  float64\n",
            " 6   pickup_time                16968 non-null  object \n",
            " 7   drop_time                  16968 non-null  object \n",
            " 8   pick_lat                   16968 non-null  float64\n",
            " 9   pick_lon                   16968 non-null  float64\n",
            " 10  drop_lat                   16968 non-null  float64\n",
            " 11  drop_lon                   16968 non-null  float64\n",
            " 12  fare                       16968 non-null  float64\n",
            " 13  label                      16968 non-null  object \n",
            "dtypes: float64(10), int64(1), object(3)\n",
            "memory usage: 1.9+ MB\n"
          ],
          "name": "stdout"
        }
      ]
    },
    {
      "cell_type": "markdown",
      "metadata": {
        "id": "uhPdHnD3yQJN",
        "colab_type": "text"
      },
      "source": [
        "Feature Extraction"
      ]
    },
    {
      "cell_type": "code",
      "metadata": {
        "id": "_hgMwRPxiyPP",
        "colab_type": "code",
        "colab": {
          "base_uri": "https://localhost:8080/",
          "height": 354
        },
        "outputId": "ee325ff3-3b88-429a-a321-2d8807b8dea5"
      },
      "source": [
        "data.pickup_time = pd.to_datetime(data.pickup_time)\n",
        "data.drop_time = pd.to_datetime(data.drop_time)\n",
        "data['time_diff'] = data.drop_time - data.pickup_time\n",
        "data['time_diff'] = data['time_diff'].astype('timedelta64[s]')\n",
        "data.shape"
      ],
      "execution_count": 30,
      "outputs": [
        {
          "output_type": "stream",
          "text": [
            "/usr/local/lib/python3.6/dist-packages/pandas/core/generic.py:5303: SettingWithCopyWarning: \n",
            "A value is trying to be set on a copy of a slice from a DataFrame.\n",
            "Try using .loc[row_indexer,col_indexer] = value instead\n",
            "\n",
            "See the caveats in the documentation: https://pandas.pydata.org/pandas-docs/stable/user_guide/indexing.html#returning-a-view-versus-a-copy\n",
            "  self[name] = value\n",
            "/usr/local/lib/python3.6/dist-packages/ipykernel_launcher.py:3: SettingWithCopyWarning: \n",
            "A value is trying to be set on a copy of a slice from a DataFrame.\n",
            "Try using .loc[row_indexer,col_indexer] = value instead\n",
            "\n",
            "See the caveats in the documentation: https://pandas.pydata.org/pandas-docs/stable/user_guide/indexing.html#returning-a-view-versus-a-copy\n",
            "  This is separate from the ipykernel package so we can avoid doing imports until\n",
            "/usr/local/lib/python3.6/dist-packages/ipykernel_launcher.py:4: SettingWithCopyWarning: \n",
            "A value is trying to be set on a copy of a slice from a DataFrame.\n",
            "Try using .loc[row_indexer,col_indexer] = value instead\n",
            "\n",
            "See the caveats in the documentation: https://pandas.pydata.org/pandas-docs/stable/user_guide/indexing.html#returning-a-view-versus-a-copy\n",
            "  after removing the cwd from sys.path.\n"
          ],
          "name": "stderr"
        },
        {
          "output_type": "execute_result",
          "data": {
            "text/plain": [
              "(16968, 15)"
            ]
          },
          "metadata": {
            "tags": []
          },
          "execution_count": 30
        }
      ]
    },
    {
      "cell_type": "code",
      "metadata": {
        "id": "XIIpQiL-0uhs",
        "colab_type": "code",
        "colab": {}
      },
      "source": [
        "import geopy.distance\n",
        "data['dist_diff'] = 0\n",
        "\n",
        "pla = np.array(data.pick_lat)\n",
        "plo = np.array(data.pick_lon)\n",
        "dla = np.array(data.drop_lat)\n",
        "dlo = np.array(data.drop_lon)\n",
        "t = []\n",
        "\n",
        "for i,j,k,l in zip(pla,plo,dla,dlo):\n",
        "  coords_1 = (i, j)\n",
        "  coords_2 = (k, l)\n",
        "  t.append(geopy.distance.distance(coords_1, coords_2).km)\n",
        "\n",
        "data['dist_diff'] = t\n",
        "data.head()"
      ],
      "execution_count": null,
      "outputs": []
    },
    {
      "cell_type": "code",
      "metadata": {
        "id": "i0mdt-RMrGtC",
        "colab_type": "code",
        "colab": {}
      },
      "source": [
        "data[\"trip_time\"] = data.duration - data.meter_waiting\n",
        "data.head()"
      ],
      "execution_count": null,
      "outputs": []
    },
    {
      "cell_type": "code",
      "metadata": {
        "id": "_wxoNRerroIc",
        "colab_type": "code",
        "colab": {}
      },
      "source": [
        "data[\"speed\"] = data.apply(lambda x : 0 if x.trip_time==0 else x.dist_diff/x.trip_time, axis=1)\n",
        "data.head()"
      ],
      "execution_count": null,
      "outputs": []
    },
    {
      "cell_type": "code",
      "metadata": {
        "id": "oYGkf8YRwwN0",
        "colab_type": "code",
        "colab": {}
      },
      "source": [
        "data[\"waiting\"] = data.apply(lambda x : 0 if x.meter_waiting_till_pickup==0 else x.meter_waiting_fare/x.meter_waiting_till_pickup, axis=1)\n",
        "data.head()"
      ],
      "execution_count": null,
      "outputs": []
    },
    {
      "cell_type": "code",
      "metadata": {
        "id": "C7d1yOwQ3tCu",
        "colab_type": "code",
        "colab": {
          "base_uri": "https://localhost:8080/",
          "height": 354
        },
        "outputId": "08ccbe32-5391-4b03-96ce-68be9380455e"
      },
      "source": [
        "data_manipulated = data.copy().drop(['pickup_time', 'drop_time', 'pick_lat', 'pick_lon', 'drop_lat', 'drop_lon','tripid'], axis=1)\n",
        "data_manipulated.info()"
      ],
      "execution_count": 35,
      "outputs": [
        {
          "output_type": "stream",
          "text": [
            "<class 'pandas.core.frame.DataFrame'>\n",
            "Int64Index: 16968 entries, 0 to 17175\n",
            "Data columns (total 12 columns):\n",
            " #   Column                     Non-Null Count  Dtype  \n",
            "---  ------                     --------------  -----  \n",
            " 0   additional_fare            16968 non-null  float64\n",
            " 1   duration                   16968 non-null  float64\n",
            " 2   meter_waiting              16968 non-null  float64\n",
            " 3   meter_waiting_fare         16968 non-null  float64\n",
            " 4   meter_waiting_till_pickup  16968 non-null  float64\n",
            " 5   fare                       16968 non-null  float64\n",
            " 6   label                      16968 non-null  object \n",
            " 7   time_diff                  16968 non-null  float64\n",
            " 8   dist_diff                  16968 non-null  float64\n",
            " 9   trip_time                  16968 non-null  float64\n",
            " 10  speed                      16968 non-null  float64\n",
            " 11  waiting                    16968 non-null  float64\n",
            "dtypes: float64(11), object(1)\n",
            "memory usage: 1.7+ MB\n"
          ],
          "name": "stdout"
        }
      ]
    },
    {
      "cell_type": "code",
      "metadata": {
        "id": "cxHuIiFwjf7O",
        "colab_type": "code",
        "colab": {
          "base_uri": "https://localhost:8080/",
          "height": 377
        },
        "outputId": "8418cdc5-790d-48ae-8c04-d17f94b97314"
      },
      "source": [
        "data_manipulated.corr()"
      ],
      "execution_count": 36,
      "outputs": [
        {
          "output_type": "execute_result",
          "data": {
            "text/html": [
              "<div>\n",
              "<style scoped>\n",
              "    .dataframe tbody tr th:only-of-type {\n",
              "        vertical-align: middle;\n",
              "    }\n",
              "\n",
              "    .dataframe tbody tr th {\n",
              "        vertical-align: top;\n",
              "    }\n",
              "\n",
              "    .dataframe thead th {\n",
              "        text-align: right;\n",
              "    }\n",
              "</style>\n",
              "<table border=\"1\" class=\"dataframe\">\n",
              "  <thead>\n",
              "    <tr style=\"text-align: right;\">\n",
              "      <th></th>\n",
              "      <th>additional_fare</th>\n",
              "      <th>duration</th>\n",
              "      <th>meter_waiting</th>\n",
              "      <th>meter_waiting_fare</th>\n",
              "      <th>meter_waiting_till_pickup</th>\n",
              "      <th>fare</th>\n",
              "      <th>time_diff</th>\n",
              "      <th>dist_diff</th>\n",
              "      <th>trip_time</th>\n",
              "      <th>speed</th>\n",
              "      <th>waiting</th>\n",
              "    </tr>\n",
              "  </thead>\n",
              "  <tbody>\n",
              "    <tr>\n",
              "      <th>additional_fare</th>\n",
              "      <td>1.000000</td>\n",
              "      <td>-0.000774</td>\n",
              "      <td>0.197606</td>\n",
              "      <td>0.199606</td>\n",
              "      <td>0.002352</td>\n",
              "      <td>0.315285</td>\n",
              "      <td>-0.000814</td>\n",
              "      <td>-0.000432</td>\n",
              "      <td>-0.803897</td>\n",
              "      <td>-0.000416</td>\n",
              "      <td>0.007202</td>\n",
              "    </tr>\n",
              "    <tr>\n",
              "      <th>duration</th>\n",
              "      <td>-0.000774</td>\n",
              "      <td>1.000000</td>\n",
              "      <td>0.969788</td>\n",
              "      <td>0.968667</td>\n",
              "      <td>0.040577</td>\n",
              "      <td>0.865256</td>\n",
              "      <td>0.999993</td>\n",
              "      <td>0.012843</td>\n",
              "      <td>0.151014</td>\n",
              "      <td>-0.006563</td>\n",
              "      <td>0.440934</td>\n",
              "    </tr>\n",
              "    <tr>\n",
              "      <th>meter_waiting</th>\n",
              "      <td>0.197606</td>\n",
              "      <td>0.969788</td>\n",
              "      <td>1.000000</td>\n",
              "      <td>0.999474</td>\n",
              "      <td>0.030450</td>\n",
              "      <td>0.870126</td>\n",
              "      <td>0.969778</td>\n",
              "      <td>0.004341</td>\n",
              "      <td>-0.094699</td>\n",
              "      <td>0.002170</td>\n",
              "      <td>0.432631</td>\n",
              "    </tr>\n",
              "    <tr>\n",
              "      <th>meter_waiting_fare</th>\n",
              "      <td>0.199606</td>\n",
              "      <td>0.968667</td>\n",
              "      <td>0.999474</td>\n",
              "      <td>1.000000</td>\n",
              "      <td>0.029911</td>\n",
              "      <td>0.865073</td>\n",
              "      <td>0.968657</td>\n",
              "      <td>0.003900</td>\n",
              "      <td>-0.097143</td>\n",
              "      <td>0.002232</td>\n",
              "      <td>0.433829</td>\n",
              "    </tr>\n",
              "    <tr>\n",
              "      <th>meter_waiting_till_pickup</th>\n",
              "      <td>0.002352</td>\n",
              "      <td>0.040577</td>\n",
              "      <td>0.030450</td>\n",
              "      <td>0.029911</td>\n",
              "      <td>1.000000</td>\n",
              "      <td>0.045468</td>\n",
              "      <td>0.040652</td>\n",
              "      <td>0.003071</td>\n",
              "      <td>0.042196</td>\n",
              "      <td>0.011435</td>\n",
              "      <td>-0.005247</td>\n",
              "    </tr>\n",
              "    <tr>\n",
              "      <th>fare</th>\n",
              "      <td>0.315285</td>\n",
              "      <td>0.865256</td>\n",
              "      <td>0.870126</td>\n",
              "      <td>0.865073</td>\n",
              "      <td>0.045468</td>\n",
              "      <td>1.000000</td>\n",
              "      <td>0.865224</td>\n",
              "      <td>0.033566</td>\n",
              "      <td>0.005000</td>\n",
              "      <td>-0.006347</td>\n",
              "      <td>0.362734</td>\n",
              "    </tr>\n",
              "    <tr>\n",
              "      <th>time_diff</th>\n",
              "      <td>-0.000814</td>\n",
              "      <td>0.999993</td>\n",
              "      <td>0.969778</td>\n",
              "      <td>0.968657</td>\n",
              "      <td>0.040652</td>\n",
              "      <td>0.865224</td>\n",
              "      <td>1.000000</td>\n",
              "      <td>0.012825</td>\n",
              "      <td>0.151028</td>\n",
              "      <td>-0.006612</td>\n",
              "      <td>0.440949</td>\n",
              "    </tr>\n",
              "    <tr>\n",
              "      <th>dist_diff</th>\n",
              "      <td>-0.000432</td>\n",
              "      <td>0.012843</td>\n",
              "      <td>0.004341</td>\n",
              "      <td>0.003900</td>\n",
              "      <td>0.003071</td>\n",
              "      <td>0.033566</td>\n",
              "      <td>0.012825</td>\n",
              "      <td>1.000000</td>\n",
              "      <td>0.034818</td>\n",
              "      <td>0.385615</td>\n",
              "      <td>0.001631</td>\n",
              "    </tr>\n",
              "    <tr>\n",
              "      <th>trip_time</th>\n",
              "      <td>-0.803897</td>\n",
              "      <td>0.151014</td>\n",
              "      <td>-0.094699</td>\n",
              "      <td>-0.097143</td>\n",
              "      <td>0.042196</td>\n",
              "      <td>0.005000</td>\n",
              "      <td>0.151028</td>\n",
              "      <td>0.034818</td>\n",
              "      <td>1.000000</td>\n",
              "      <td>-0.035577</td>\n",
              "      <td>0.046250</td>\n",
              "    </tr>\n",
              "    <tr>\n",
              "      <th>speed</th>\n",
              "      <td>-0.000416</td>\n",
              "      <td>-0.006563</td>\n",
              "      <td>0.002170</td>\n",
              "      <td>0.002232</td>\n",
              "      <td>0.011435</td>\n",
              "      <td>-0.006347</td>\n",
              "      <td>-0.006612</td>\n",
              "      <td>0.385615</td>\n",
              "      <td>-0.035577</td>\n",
              "      <td>1.000000</td>\n",
              "      <td>-0.000520</td>\n",
              "    </tr>\n",
              "    <tr>\n",
              "      <th>waiting</th>\n",
              "      <td>0.007202</td>\n",
              "      <td>0.440934</td>\n",
              "      <td>0.432631</td>\n",
              "      <td>0.433829</td>\n",
              "      <td>-0.005247</td>\n",
              "      <td>0.362734</td>\n",
              "      <td>0.440949</td>\n",
              "      <td>0.001631</td>\n",
              "      <td>0.046250</td>\n",
              "      <td>-0.000520</td>\n",
              "      <td>1.000000</td>\n",
              "    </tr>\n",
              "  </tbody>\n",
              "</table>\n",
              "</div>"
            ],
            "text/plain": [
              "                           additional_fare  duration  ...     speed   waiting\n",
              "additional_fare                   1.000000 -0.000774  ... -0.000416  0.007202\n",
              "duration                         -0.000774  1.000000  ... -0.006563  0.440934\n",
              "meter_waiting                     0.197606  0.969788  ...  0.002170  0.432631\n",
              "meter_waiting_fare                0.199606  0.968667  ...  0.002232  0.433829\n",
              "meter_waiting_till_pickup         0.002352  0.040577  ...  0.011435 -0.005247\n",
              "fare                              0.315285  0.865256  ... -0.006347  0.362734\n",
              "time_diff                        -0.000814  0.999993  ... -0.006612  0.440949\n",
              "dist_diff                        -0.000432  0.012843  ...  0.385615  0.001631\n",
              "trip_time                        -0.803897  0.151014  ... -0.035577  0.046250\n",
              "speed                            -0.000416 -0.006563  ...  1.000000 -0.000520\n",
              "waiting                           0.007202  0.440934  ... -0.000520  1.000000\n",
              "\n",
              "[11 rows x 11 columns]"
            ]
          },
          "metadata": {
            "tags": []
          },
          "execution_count": 36
        }
      ]
    },
    {
      "cell_type": "markdown",
      "metadata": {
        "id": "14nISvLul79d",
        "colab_type": "text"
      },
      "source": [
        "Data visualization"
      ]
    },
    {
      "cell_type": "code",
      "metadata": {
        "id": "1CBsmrbJl7ed",
        "colab_type": "code",
        "colab": {}
      },
      "source": [
        "# for col in data_manipulated.columns:\n",
        "#   if(col in ['tripid', 'label']): \n",
        "#     continue\n",
        "#   print(col)\n",
        "#   sns.boxplot(data_manipulated)\n",
        "# sns.boxplot(data_manipulated.dist_diff)\n",
        "fig, ax = plt.subplots(figsize=(16,8))\n",
        "ax.scatter(data_manipulated.dist_diff, data_manipulated.fare)\n",
        "ax.set_xlabel('Distance')\n",
        "ax.set_ylabel('Fare')\n",
        "plt.show()"
      ],
      "execution_count": null,
      "outputs": []
    },
    {
      "cell_type": "code",
      "metadata": {
        "id": "LSeZ0Q_i8-W1",
        "colab_type": "code",
        "colab": {}
      },
      "source": [
        "# Removed outliers\n",
        "sns.boxplot(data_manipulated[data_manipulated.dist_diff < 100].dist_diff)\n",
        "# data_manipulated[data_manipulated.dist_diff > 100]."
      ],
      "execution_count": null,
      "outputs": []
    },
    {
      "cell_type": "code",
      "metadata": {
        "id": "Q7-Scu1buwnd",
        "colab_type": "code",
        "colab": {}
      },
      "source": [
        "data_manipulated.drop(['label'], axis=1).plot(kind='box', figsize=(30,10))"
      ],
      "execution_count": null,
      "outputs": []
    },
    {
      "cell_type": "code",
      "metadata": {
        "id": "wh7y8Lzrvm1E",
        "colab_type": "code",
        "colab": {}
      },
      "source": [
        "# Dropping the outlier rows with Percentiles\n",
        "# data_manipulated_out = data_manipulated\n",
        "# print(data_manipulated_out.shape)\n",
        "# cols = ['A4', 'A8', 'A12', 'A16','A20','A24','A28', 'A32']\n",
        "# for col in cols: \n",
        "#   upper_lim = features_data[col].quantile(.999)\n",
        "#   lower_lim = features_data[col].quantile(.001)\n",
        "#   features_data = features_data[(features_data[col] < upper_lim)]\n",
        "#   # features_data = features_data[(features_data[col] > lower_lim)]\n",
        "# print(features_data.shape)"
      ],
      "execution_count": null,
      "outputs": []
    },
    {
      "cell_type": "code",
      "metadata": {
        "id": "w8GPOYzo4H8e",
        "colab_type": "code",
        "colab": {
          "base_uri": "https://localhost:8080/",
          "height": 297
        },
        "outputId": "a34116dd-38f1-46a7-b923-9fb8d47f2e4c"
      },
      "source": [
        "sns.scatterplot(data_manipulated.additional_fare, data_manipulated.fare, hue='label', data=data_manipulated)\n",
        "# plt.show()"
      ],
      "execution_count": null,
      "outputs": [
        {
          "output_type": "execute_result",
          "data": {
            "text/plain": [
              "<matplotlib.axes._subplots.AxesSubplot at 0x7f0d37cd2c88>"
            ]
          },
          "metadata": {
            "tags": []
          },
          "execution_count": 52
        },
        {
          "output_type": "display_data",
          "data": {
            "image/png": "[encoded data removed]",
            "text/plain": [
              "<Figure size 432x288 with 1 Axes>"
            ]
          },
          "metadata": {
            "tags": [],
            "needs_background": "light"
          }
        }
      ]
    },
    {
      "cell_type": "code",
      "metadata": {
        "id": "v59XpbEF4H5o",
        "colab_type": "code",
        "colab": {
          "base_uri": "https://localhost:8080/",
          "height": 372
        },
        "outputId": "8bce30b1-1bf8-49cc-c702-ad9af760aaf8"
      },
      "source": [
        "X = data_manipulated.copy().drop('label', axis=1)\n",
        "# X = data_manipulated.copy().drop(['label', 'meter_waiting_till_pickup'], axis=1)\n",
        "# X = data_manipulated.copy().drop(['label', 'time_diff'], axis=1)\n",
        "\n",
        "t = []\n",
        "\n",
        "for i in data_manipulated.label:\n",
        "  if(i == 'correct'):\n",
        "    t.append(1)\n",
        "  else:\n",
        "    t.append(0)\n",
        "\n",
        "data_manipulated['target'] = t\n",
        "y = data_manipulated['target']\n",
        "num_pipeline = Pipeline([('std_scaler', StandardScaler())])\n",
        "X_tr = num_pipeline.fit_transform(X)\n",
        "data_manipulated.info()"
      ],
      "execution_count": 37,
      "outputs": [
        {
          "output_type": "stream",
          "text": [
            "<class 'pandas.core.frame.DataFrame'>\n",
            "Int64Index: 16968 entries, 0 to 17175\n",
            "Data columns (total 13 columns):\n",
            " #   Column                     Non-Null Count  Dtype  \n",
            "---  ------                     --------------  -----  \n",
            " 0   additional_fare            16968 non-null  float64\n",
            " 1   duration                   16968 non-null  float64\n",
            " 2   meter_waiting              16968 non-null  float64\n",
            " 3   meter_waiting_fare         16968 non-null  float64\n",
            " 4   meter_waiting_till_pickup  16968 non-null  float64\n",
            " 5   fare                       16968 non-null  float64\n",
            " 6   label                      16968 non-null  object \n",
            " 7   time_diff                  16968 non-null  float64\n",
            " 8   dist_diff                  16968 non-null  float64\n",
            " 9   trip_time                  16968 non-null  float64\n",
            " 10  speed                      16968 non-null  float64\n",
            " 11  waiting                    16968 non-null  float64\n",
            " 12  target                     16968 non-null  int64  \n",
            "dtypes: float64(11), int64(1), object(1)\n",
            "memory usage: 1.8+ MB\n"
          ],
          "name": "stdout"
        }
      ]
    },
    {
      "cell_type": "code",
      "metadata": {
        "id": "zuxkW8H04PFj",
        "colab_type": "code",
        "colab": {
          "base_uri": "https://localhost:8080/",
          "height": 34
        },
        "outputId": "ebe1b4c1-ce83-4d0b-a386-000fd6144d35"
      },
      "source": [
        "X_train, X_test, y_train, y_test = train_test_split(X_tr, y, test_size=0.2,random_state=42, stratify=y)\n",
        "X_train.shape"
      ],
      "execution_count": 38,
      "outputs": [
        {
          "output_type": "execute_result",
          "data": {
            "text/plain": [
              "(13574, 11)"
            ]
          },
          "metadata": {
            "tags": []
          },
          "execution_count": 38
        }
      ]
    },
    {
      "cell_type": "markdown",
      "metadata": {
        "id": "GiN5HqMWEhAd",
        "colab_type": "text"
      },
      "source": [
        "Logistic Regression"
      ]
    },
    {
      "cell_type": "code",
      "metadata": {
        "id": "FsRReg7hD9c7",
        "colab_type": "code",
        "colab": {
          "base_uri": "https://localhost:8080/",
          "height": 52
        },
        "outputId": "e899f6a1-db0f-4f55-fab5-e9bb930aaefe"
      },
      "source": [
        "logreg = LogisticRegression()\n",
        "logreg.fit(X_train, y_train)\n",
        "y_pred = logreg.predict(X_test) \n",
        "print(logreg.score(X_test, y_test))\n",
        "print(f1_score(y_test, y_pred, average='macro'))\n",
        "# 0.9239835002946376\n",
        "# 0.6255234491535862"
      ],
      "execution_count": 39,
      "outputs": [
        {
          "output_type": "stream",
          "text": [
            "0.9236888626988804\n",
            "0.6250435613452512\n"
          ],
          "name": "stdout"
        }
      ]
    },
    {
      "cell_type": "markdown",
      "metadata": {
        "id": "SYe0iA3wEsWj",
        "colab_type": "text"
      },
      "source": [
        "SGD"
      ]
    },
    {
      "cell_type": "code",
      "metadata": {
        "id": "jGgqWRPVEu2r",
        "colab_type": "code",
        "colab": {
          "base_uri": "https://localhost:8080/",
          "height": 107
        },
        "outputId": "abf5f344-29d8-447a-c5e6-624f3696f9fa"
      },
      "source": [
        "sgd = SGDClassifier(loss=\"hinge\", penalty=\"elasticnet\", max_iter=10)\n",
        "sgd.fit(X_train, y_train)\n",
        "y_pred = sgd.predict(X_test) \n",
        "print(sgd.score(X_test, y_test))\n",
        "print(f1_score(y_test, y_pred, average='macro'))\n",
        "# 0.9148497348261638\n",
        "# 0.5462640308453086"
      ],
      "execution_count": 40,
      "outputs": [
        {
          "output_type": "stream",
          "text": [
            "0.9216263995285798\n",
            "0.6118995173268816\n"
          ],
          "name": "stdout"
        },
        {
          "output_type": "stream",
          "text": [
            "/usr/local/lib/python3.6/dist-packages/sklearn/linear_model/_stochastic_gradient.py:557: ConvergenceWarning: Maximum number of iteration reached before convergence. Consider increasing max_iter to improve the fit.\n",
            "  ConvergenceWarning)\n"
          ],
          "name": "stderr"
        }
      ]
    },
    {
      "cell_type": "markdown",
      "metadata": {
        "id": "_agAvM8nzONe",
        "colab_type": "text"
      },
      "source": [
        "Random Forest"
      ]
    },
    {
      "cell_type": "code",
      "metadata": {
        "id": "6JwewCaaJtYD",
        "colab_type": "code",
        "colab": {
          "base_uri": "https://localhost:8080/",
          "height": 52
        },
        "outputId": "47025c08-500e-443a-a8ea-41a63cc6c3ec"
      },
      "source": [
        "randomForestselect = SelectFromModel(RandomForestClassifier(n_estimators=250, random_state=0, n_jobs=-1))\n",
        "randomForestselect.fit(X_train, y_train)\n",
        "X_train_rfc = randomForestselect.transform(X_train)\n",
        "X_test_rfc = randomForestselect.transform(X_test)\n",
        "rf = RandomForestClassifier(n_estimators=250, random_state=0, n_jobs=-1)\n",
        "rf.fit(X_train_rfc,y_train)\n",
        "y_pred = rf.predict(X_test_rfc)\n",
        "rf.score(X_test_rfc, y_test)\n",
        "print(rf.score(X_test_rfc, y_test))\n",
        "print(f1_score(y_test, y_pred, average='macro'))\n",
        "# 0.9599292869770183\n",
        "# 0.857375217528872"
      ],
      "execution_count": 41,
      "outputs": [
        {
          "output_type": "stream",
          "text": [
            "0.9599292869770183\n",
            "0.857375217528872\n"
          ],
          "name": "stdout"
        }
      ]
    },
    {
      "cell_type": "markdown",
      "metadata": {
        "id": "5u5wwMSXzTG5",
        "colab_type": "text"
      },
      "source": [
        "Tree models with LinearSVC feature selection"
      ]
    },
    {
      "cell_type": "code",
      "metadata": {
        "id": "fqgBdFO3J3ht",
        "colab_type": "code",
        "colab": {
          "base_uri": "https://localhost:8080/",
          "height": 123
        },
        "outputId": "71315071-fd4e-41a2-e856-09399df8b21a"
      },
      "source": [
        "ls_select = SelectFromModel(LinearSVC(penalty=\"l1\", dual=False))\n",
        "ls_select.fit(X_train, y_train)\n",
        "X_train_ls = ls_select.transform(X_train)\n",
        "X_test_ls = ls_select.transform(X_test)\n",
        "rf = RandomForestClassifier(n_estimators=100, random_state=0, n_jobs=-1)\n",
        "rf.fit(X_train_ls,y_train)\n",
        "y_pred = rf.predict(X_test_ls)\n",
        "print('with RF',f1_score(y_test, y_pred, average='macro'))\n",
        "print('with RF',rf.score(X_test_ls, y_test))\n",
        "xtc = ExtraTreesClassifier(n_estimators=50)\n",
        "xtc.fit(X_train_ls,y_train)\n",
        "y_pred = xtc.predict(X_test_ls)\n",
        "print('with XTC',f1_score(y_test, y_pred, average='macro'))\n",
        "print('with XTC', xtc.score(X_test_ls, y_test))\n",
        "# with RF 0.8404195295651737\n",
        "# with RF 0.9558043606364172\n",
        "# with XTC 0.8396457333845222\n",
        "# with XTC 0.95550972304066"
      ],
      "execution_count": 42,
      "outputs": [
        {
          "output_type": "stream",
          "text": [
            "/usr/local/lib/python3.6/dist-packages/sklearn/svm/_base.py:947: ConvergenceWarning: Liblinear failed to converge, increase the number of iterations.\n",
            "  \"the number of iterations.\", ConvergenceWarning)\n"
          ],
          "name": "stderr"
        },
        {
          "output_type": "stream",
          "text": [
            "with RF 0.8406178545596085\n",
            "with RF 0.9560989982321745\n",
            "with XTC 0.8369328367981204\n",
            "with XTC 0.9549204478491455\n"
          ],
          "name": "stdout"
        }
      ]
    },
    {
      "cell_type": "markdown",
      "metadata": {
        "id": "J8NpWSENzr8R",
        "colab_type": "text"
      },
      "source": [
        "Tree models with extraTreesClassifier feature selection"
      ]
    },
    {
      "cell_type": "code",
      "metadata": {
        "id": "pAHf3hhHKFy2",
        "colab_type": "code",
        "colab": {
          "base_uri": "https://localhost:8080/",
          "height": 87
        },
        "outputId": "707e194a-2901-4b6e-acb7-2ec02f4b0450"
      },
      "source": [
        "xtc_select = SelectFromModel(ExtraTreesClassifier(n_estimators=50))\n",
        "xtc_select.fit(X_train, y_train)\n",
        "X_train_xtc = xtc_select.transform(X_train)\n",
        "X_test_xtc = xtc_select.transform(X_test)\n",
        "rf = RandomForestClassifier(n_estimators=100, random_state=0, n_jobs=-1)\n",
        "rf.fit(X_train_xtc,y_train)\n",
        "y_pred = rf.predict(X_test_xtc)\n",
        "print('with RF',f1_score(y_test, y_pred, average='macro'))\n",
        "print('with RF',rf.score(X_test_xtc, y_test))\n",
        "xtc = ExtraTreesClassifier(n_estimators=50)\n",
        "xtc.fit(X_train_xtc,y_train)\n",
        "y_pred = xtc.predict(X_test_xtc)\n",
        "print('with XTC',f1_score(y_test, y_pred, average='macro'))\n",
        "print('with XTC', xtc.score(X_test_xtc, y_test))\n",
        "# with RF 0.8490331276261784\n",
        "# with RF 0.9569829110194461\n",
        "# with XTC 0.8423323047188345\n",
        "# with XTC 0.9537418974661167"
      ],
      "execution_count": 49,
      "outputs": [
        {
          "output_type": "stream",
          "text": [
            "with RF 0.8609548827033446\n",
            "with RF 0.9605185621685327\n",
            "with XTC 0.8534338997159971\n",
            "with XTC 0.9584560989982321\n"
          ],
          "name": "stdout"
        }
      ]
    },
    {
      "cell_type": "code",
      "metadata": {
        "id": "-2ryQFQ3KKOG",
        "colab_type": "code",
        "colab": {
          "base_uri": "https://localhost:8080/",
          "height": 87
        },
        "outputId": "8198fd64-c5e9-472f-925b-86198a916005"
      },
      "source": [
        "selector = RFECV(GradientBoostingClassifier(n_estimators=100, max_depth=32, random_state=0))\n",
        "selector.fit(X_train, y_train)\n",
        "X_train_Grad_RFE = selector.transform(X_train)\n",
        "X_test_Grad_RFE = selector.transform(X_test)\n",
        "\n",
        "gf = GradientBoostingClassifier(n_estimators=100, random_state=0)\n",
        "gf.fit(X_train_Grad_RFE, y_train)\n",
        "y_pred = gf.predict(X_test_Grad_RFE)\n",
        "print('with gf',f1_score(y_test, y_pred, average='macro'))\n",
        "print('gf', gf.score(X_test_Grad_RFE, y_test))\n",
        "\n",
        "rf = RandomForestClassifier(n_estimators=100,max_depth=32, random_state=0, n_jobs=-1)\n",
        "rf.fit(X_train_Grad_RFE,y_train)\n",
        "y_pred = rf.predict(X_test_Grad_RFE)\n",
        "print('with rf',f1_score(y_test, y_pred, average='macro'))\n",
        "print('rf', rf.score(X_test_Grad_RFE, y_test))\n",
        "# with gf 0.8258051016419848\n",
        "# gf 0.9540365350618739\n",
        "# with rf 0.858382013646851\n",
        "# rf 0.9599292869770183"
      ],
      "execution_count": 46,
      "outputs": [
        {
          "output_type": "stream",
          "text": [
            "with gf 0.8258051016419848\n",
            "gf 0.9540365350618739\n",
            "with rf 0.858382013646851\n",
            "rf 0.9599292869770183\n"
          ],
          "name": "stdout"
        }
      ]
    },
    {
      "cell_type": "code",
      "metadata": {
        "id": "KYGxVqxBKWb-",
        "colab_type": "code",
        "colab": {
          "base_uri": "https://localhost:8080/",
          "height": 52
        },
        "outputId": "0dcb9f05-d2b5-4c85-c274-5e3f81eefb3f"
      },
      "source": [
        "parameters = {\n",
        "    \"n_estimators\":[300],\n",
        "    \"max_depth\":[64],\n",
        "}\n",
        "# Tuned Decision Tree Parameters: {'max_depth': 64, 'n_estimators': 300}\n",
        "rf1 = RandomForestClassifier()\n",
        "cv_rf = GridSearchCV(rf1,parameters,cv=5)\n",
        "cv_rf.fit(X_train, y_train)\n",
        "y_pred = cv_rf.predict(X_test)\n",
        "print('with cv_rf',f1_score(y_test, y_pred, average='macro'))\n",
        "print(cv_rf.score(X_test, y_test))\n",
        "# print(\"Tuned Decision Tree Parameters: {}\".format(cv_rf.best_params_))\n",
        "# with cv_rf 0.843893528526654\n",
        "# 0.9566882734236889"
      ],
      "execution_count": 47,
      "outputs": [
        {
          "output_type": "stream",
          "text": [
            "with cv_rf 0.841769630955588\n",
            "0.9560989982321745\n"
          ],
          "name": "stdout"
        }
      ]
    },
    {
      "cell_type": "code",
      "metadata": {
        "id": "j35PtrlFKglo",
        "colab_type": "code",
        "colab": {
          "base_uri": "https://localhost:8080/",
          "height": 52
        },
        "outputId": "9edaa255-a599-4667-875a-fbece833f8e5"
      },
      "source": [
        "selector = RFE(RandomForestClassifier(n_estimators=100, max_depth= 64, n_jobs=-1),step=1)\n",
        "selector.fit(X_train, y_train)\n",
        "X_train_Grad_RFELoop = selector.transform(X_train)\n",
        "X_test_Grad_RFELoop = selector.transform(X_test)\n",
        "rf = RandomForestClassifier(n_estimators=300, max_depth= 64, n_jobs=-1)\n",
        "rf.fit(X_train_Grad_RFELoop,y_train)\n",
        "y_pred = rf.predict(X_test_Grad_RFELoop)\n",
        "print('with rf',f1_score(y_test, y_pred, average='macro'))\n",
        "print('rf', rf.score(X_test_Grad_RFELoop, y_test))\n",
        "# with rf 0.8578805736700473\n",
        "# rf 0.9599292869770183"
      ],
      "execution_count": 48,
      "outputs": [
        {
          "output_type": "stream",
          "text": [
            "with rf 0.858382013646851\n",
            "rf 0.9599292869770183\n"
          ],
          "name": "stdout"
        }
      ]
    },
    {
      "cell_type": "markdown",
      "metadata": {
        "id": "-R1-GjzCK9wP",
        "colab_type": "text"
      },
      "source": [
        "For submisssion"
      ]
    },
    {
      "cell_type": "code",
      "metadata": {
        "id": "mAZFDuKPLDET",
        "colab_type": "code",
        "colab": {
          "base_uri": "https://localhost:8080/",
          "height": 34
        },
        "outputId": "0c028813-71dd-47a0-af6a-701f96e3daaf"
      },
      "source": [
        "test_submission = pd.read_csv('/content/drive/My Drive/MLAssignment/test.csv');\n",
        "test_submission.shape"
      ],
      "execution_count": 50,
      "outputs": [
        {
          "output_type": "execute_result",
          "data": {
            "text/plain": [
              "(8576, 13)"
            ]
          },
          "metadata": {
            "tags": []
          },
          "execution_count": 50
        }
      ]
    },
    {
      "cell_type": "code",
      "metadata": {
        "id": "gQweju_iLhgG",
        "colab_type": "code",
        "colab": {}
      },
      "source": [
        "def downloadTarget(target, fileName):\n",
        "  submission = pd.DataFrame(target, columns=['prediction'])\n",
        "  submission['tripid'] = test_submission.tripid\n",
        "  submission.to_csv(fileName) \n",
        "  files.download(fileName)"
      ],
      "execution_count": 51,
      "outputs": []
    },
    {
      "cell_type": "code",
      "metadata": {
        "id": "aRGtWQPzM20b",
        "colab_type": "code",
        "colab": {}
      },
      "source": [
        "def feature_selection(data):\n",
        "  data.pickup_time = pd.to_datetime(data.pickup_time)\n",
        "  data.drop_time = pd.to_datetime(data.drop_time)\n",
        "  data['time_diff'] = data.drop_time - data.pickup_time\n",
        "  data['time_diff'] = data['time_diff'].astype('timedelta64[s]')\n",
        "\n",
        "  data['dist_diff'] = 0\n",
        "\n",
        "  pla = np.array(data.pick_lat)\n",
        "  plo = np.array(data.pick_lon)\n",
        "  dla = np.array(data.drop_lat)\n",
        "  dlo = np.array(data.drop_lon)\n",
        "  t = []\n",
        "\n",
        "  for i,j,k,l in zip(pla,plo,dla,dlo):\n",
        "    coords_1 = (i, j)\n",
        "    coords_2 = (k, l)\n",
        "    t.append(geopy.distance.distance(coords_1, coords_2).km)\n",
        "\n",
        "  data['dist_diff'] = t\n",
        "\n",
        "  data[\"trip_time\"] = data.duration - data.meter_waiting\n",
        "  data[\"speed\"] = data.apply(lambda x : 0 if x.trip_time==0 else x.dist_diff/x.trip_time, axis=1)\n",
        "  data[\"waiting\"] = data.apply(lambda x : 0 if x.meter_waiting_till_pickup==0 else x.meter_waiting_fare/x.meter_waiting_till_pickup, axis=1)\n",
        "\n",
        "\n",
        "  data_manipulated = data.copy().drop(['pickup_time', 'drop_time', 'pick_lat', 'pick_lon', 'drop_lat', 'drop_lon', 'tripid'], axis=1)\n",
        "  return data_manipulated"
      ],
      "execution_count": 55,
      "outputs": []
    },
    {
      "cell_type": "code",
      "metadata": {
        "id": "qCUCurKvR9YW",
        "colab_type": "code",
        "colab": {
          "base_uri": "https://localhost:8080/",
          "height": 34
        },
        "outputId": "bd34d7b8-cbc7-4d3f-d047-9c4eac71023e"
      },
      "source": [
        "X.shape"
      ],
      "execution_count": 53,
      "outputs": [
        {
          "output_type": "execute_result",
          "data": {
            "text/plain": [
              "(16968, 11)"
            ]
          },
          "metadata": {
            "tags": []
          },
          "execution_count": 53
        }
      ]
    },
    {
      "cell_type": "code",
      "metadata": {
        "id": "oTz2DtXwOaT6",
        "colab_type": "code",
        "colab": {}
      },
      "source": [
        "manipulated_data1 = feature_selection(test_submission)\n",
        "X_test = manipulated_data1\n",
        "\n",
        "sc = StandardScaler()\n",
        "sc.fit(X)\n",
        "X_tr = sc.transform(X)\n",
        "X_test_tr = sc.transform(X_test)\n"
      ],
      "execution_count": 56,
      "outputs": []
    },
    {
      "cell_type": "code",
      "metadata": {
        "id": "g8tbd420OHB4",
        "colab_type": "code",
        "colab": {
          "base_uri": "https://localhost:8080/",
          "height": 16
        },
        "outputId": "aa39d0bd-6218-4982-8cbc-12110217d535"
      },
      "source": [
        "xtc_select = SelectFromModel(ExtraTreesClassifier(n_estimators=50))\n",
        "xtc_select.fit(X_tr, y)\n",
        "X_train_xtc = xtc_select.transform(X_tr)\n",
        "X_test_xtc = xtc_select.transform(X_test_tr)\n",
        "\n",
        "rf = RandomForestClassifier(n_estimators=100, random_state=0, n_jobs=-1)\n",
        "rf.fit(X_train_xtc,y)\n",
        "y_pred_rfxtc = rf.predict(X_test_xtc)\n",
        "downloadTarget(y_pred_rfxtc, 'submissionWithRFWithXTC.csv')"
      ],
      "execution_count": 60,
      "outputs": [
        {
          "output_type": "display_data",
          "data": {
            "application/javascript": [
              "\n",
              "    async function download(id, filename, size) {\n",
              "      if (!google.colab.kernel.accessAllowed) {\n",
              "        return;\n",
              "      }\n",
              "      const div = document.createElement('div');\n",
              "      const label = document.createElement('label');\n",
              "      label.textContent = `Downloading \"${filename}\": `;\n",
              "      div.appendChild(label);\n",
              "      const progress = document.createElement('progress');\n",
              "      progress.max = size;\n",
              "      div.appendChild(progress);\n",
              "      document.body.appendChild(div);\n",
              "\n",
              "      const buffers = [];\n",
              "      let downloaded = 0;\n",
              "\n",
              "      const channel = await google.colab.kernel.comms.open(id);\n",
              "      // Send a message to notify the kernel that we're ready.\n",
              "      channel.send({})\n",
              "\n",
              "      for await (const message of channel.messages) {\n",
              "        // Send a message to notify the kernel that we're ready.\n",
              "        channel.send({})\n",
              "        if (message.buffers) {\n",
              "          for (const buffer of message.buffers) {\n",
              "            buffers.push(buffer);\n",
              "            downloaded += buffer.byteLength;\n",
              "            progress.value = downloaded;\n",
              "          }\n",
              "        }\n",
              "      }\n",
              "      const blob = new Blob(buffers, {type: 'application/binary'});\n",
              "      const a = document.createElement('a');\n",
              "      a.href = window.URL.createObjectURL(blob);\n",
              "      a.download = filename;\n",
              "      div.appendChild(a);\n",
              "      a.click();\n",
              "      div.remove();\n",
              "    }\n",
              "  "
            ],
            "text/plain": [
              "<IPython.core.display.Javascript object>"
            ]
          },
          "metadata": {
            "tags": []
          }
        },
        {
          "output_type": "display_data",
          "data": {
            "application/javascript": [
              "download(\"download_6b79bfb7-37c8-422f-aa58-17d7a867fefe\", \"submissionWithRFWithXTC.csv\", 144701)"
            ],
            "text/plain": [
              "<IPython.core.display.Javascript object>"
            ]
          },
          "metadata": {
            "tags": []
          }
        }
      ]
    },
    {
      "cell_type": "code",
      "metadata": {
        "id": "Qd1qPKqiOqeS",
        "colab_type": "code",
        "colab": {}
      },
      "source": [
        "y_test_xtc.shape"
      ],
      "execution_count": null,
      "outputs": []
    },
    {
      "cell_type": "code",
      "metadata": {
        "id": "rsLWKshR9TuB",
        "colab_type": "code",
        "colab": {
          "base_uri": "https://localhost:8080/",
          "height": 16
        },
        "outputId": "d58175e0-5782-4189-f39d-63fb3232651b"
      },
      "source": [
        "parameters = {\n",
        "    \"n_estimators\":[300],\n",
        "    \"max_depth\":[64],\n",
        "}\n",
        "rf1 = RandomForestClassifier()\n",
        "cv_rf = GridSearchCV(rf1,parameters,cv=5)\n",
        "cv_rf.fit(X_tr, y)\n",
        "y_pred_cvrf = cv_rf.predict(X_test_tr)\n",
        "downloadTarget(y_pred_cvrf, 'submissionWithGSCVWithRF-AF.csv')"
      ],
      "execution_count": 59,
      "outputs": [
        {
          "output_type": "display_data",
          "data": {
            "application/javascript": [
              "\n",
              "    async function download(id, filename, size) {\n",
              "      if (!google.colab.kernel.accessAllowed) {\n",
              "        return;\n",
              "      }\n",
              "      const div = document.createElement('div');\n",
              "      const label = document.createElement('label');\n",
              "      label.textContent = `Downloading \"${filename}\": `;\n",
              "      div.appendChild(label);\n",
              "      const progress = document.createElement('progress');\n",
              "      progress.max = size;\n",
              "      div.appendChild(progress);\n",
              "      document.body.appendChild(div);\n",
              "\n",
              "      const buffers = [];\n",
              "      let downloaded = 0;\n",
              "\n",
              "      const channel = await google.colab.kernel.comms.open(id);\n",
              "      // Send a message to notify the kernel that we're ready.\n",
              "      channel.send({})\n",
              "\n",
              "      for await (const message of channel.messages) {\n",
              "        // Send a message to notify the kernel that we're ready.\n",
              "        channel.send({})\n",
              "        if (message.buffers) {\n",
              "          for (const buffer of message.buffers) {\n",
              "            buffers.push(buffer);\n",
              "            downloaded += buffer.byteLength;\n",
              "            progress.value = downloaded;\n",
              "          }\n",
              "        }\n",
              "      }\n",
              "      const blob = new Blob(buffers, {type: 'application/binary'});\n",
              "      const a = document.createElement('a');\n",
              "      a.href = window.URL.createObjectURL(blob);\n",
              "      a.download = filename;\n",
              "      div.appendChild(a);\n",
              "      a.click();\n",
              "      div.remove();\n",
              "    }\n",
              "  "
            ],
            "text/plain": [
              "<IPython.core.display.Javascript object>"
            ]
          },
          "metadata": {
            "tags": []
          }
        },
        {
          "output_type": "display_data",
          "data": {
            "application/javascript": [
              "download(\"download_6cc4b3b6-b356-4726-8014-8e40113609b1\", \"submissionWithGSCVWithRF-AF.csv\", 144701)"
            ],
            "text/plain": [
              "<IPython.core.display.Javascript object>"
            ]
          },
          "metadata": {
            "tags": []
          }
        }
      ]
    },
    {
      "cell_type": "code",
      "metadata": {
        "id": "ZwRaLMcQI9AN",
        "colab_type": "code",
        "colab": {}
      },
      "source": [
        "y_pred_cvrf.shape"
      ],
      "execution_count": null,
      "outputs": []
    },
    {
      "cell_type": "code",
      "metadata": {
        "id": "xvHmrRqlBAwv",
        "colab_type": "code",
        "colab": {}
      },
      "source": [
        "selector = RFECV(GradientBoostingClassifier(n_estimators=100, max_depth=32, random_state=0))\n",
        "selector.fit(X_tr, y)\n",
        "X_train_Grad_RFE = selector.transform(X_tr)\n",
        "X_test_Grad_RFE = selector.transform(X_test_tr)\n",
        "\n",
        "rf = RandomForestClassifier(n_estimators=100,max_depth=32, random_state=0, n_jobs=-1)\n",
        "rf.fit(X_train_Grad_RFE,y)\n",
        "y_pred_grf = rf.predict(X_test_Grad_RFE)\n",
        "downloadTarget(y_pred_grf, 'submissionWithRFWithGBC-wmp.csv')"
      ],
      "execution_count": null,
      "outputs": []
    },
    {
      "cell_type": "code",
      "metadata": {
        "id": "lHH8PImwOlx5",
        "colab_type": "code",
        "colab": {
          "base_uri": "https://localhost:8080/",
          "height": 52
        },
        "outputId": "c89b82a7-cad2-4f8e-8e04-a50099a7271b"
      },
      "source": [
        "ls_select = SelectFromModel(LinearSVC(penalty=\"l1\", dual=False))\n",
        "ls_select.fit(X_tr, y)\n",
        "X_train_ls = ls_select.transform(X_tr)\n",
        "X_test_ls = ls_select.transform(X_test_tr)\n",
        "rf = RandomForestClassifier(n_estimators=100, random_state=0, n_jobs=-1)\n",
        "rf.fit(X_train_ls,y)\n",
        "y_pred_rfsvc = rf.predict(X_test_ls)\n",
        "downloadTarget(y_pred_rfsvc, 'submissionWithRFWithSFM.csv')"
      ],
      "execution_count": 58,
      "outputs": [
        {
          "output_type": "stream",
          "text": [
            "/usr/local/lib/python3.6/dist-packages/sklearn/svm/_base.py:947: ConvergenceWarning: Liblinear failed to converge, increase the number of iterations.\n",
            "  \"the number of iterations.\", ConvergenceWarning)\n"
          ],
          "name": "stderr"
        },
        {
          "output_type": "display_data",
          "data": {
            "application/javascript": [
              "\n",
              "    async function download(id, filename, size) {\n",
              "      if (!google.colab.kernel.accessAllowed) {\n",
              "        return;\n",
              "      }\n",
              "      const div = document.createElement('div');\n",
              "      const label = document.createElement('label');\n",
              "      label.textContent = `Downloading \"${filename}\": `;\n",
              "      div.appendChild(label);\n",
              "      const progress = document.createElement('progress');\n",
              "      progress.max = size;\n",
              "      div.appendChild(progress);\n",
              "      document.body.appendChild(div);\n",
              "\n",
              "      const buffers = [];\n",
              "      let downloaded = 0;\n",
              "\n",
              "      const channel = await google.colab.kernel.comms.open(id);\n",
              "      // Send a message to notify the kernel that we're ready.\n",
              "      channel.send({})\n",
              "\n",
              "      for await (const message of channel.messages) {\n",
              "        // Send a message to notify the kernel that we're ready.\n",
              "        channel.send({})\n",
              "        if (message.buffers) {\n",
              "          for (const buffer of message.buffers) {\n",
              "            buffers.push(buffer);\n",
              "            downloaded += buffer.byteLength;\n",
              "            progress.value = downloaded;\n",
              "          }\n",
              "        }\n",
              "      }\n",
              "      const blob = new Blob(buffers, {type: 'application/binary'});\n",
              "      const a = document.createElement('a');\n",
              "      a.href = window.URL.createObjectURL(blob);\n",
              "      a.download = filename;\n",
              "      div.appendChild(a);\n",
              "      a.click();\n",
              "      div.remove();\n",
              "    }\n",
              "  "
            ],
            "text/plain": [
              "<IPython.core.display.Javascript object>"
            ]
          },
          "metadata": {
            "tags": []
          }
        },
        {
          "output_type": "display_data",
          "data": {
            "application/javascript": [
              "download(\"download_d4b4c73c-816a-4124-aca5-6a5ff2ae01e8\", \"submissionWithRFWithSFM.csv\", 144701)"
            ],
            "text/plain": [
              "<IPython.core.display.Javascript object>"
            ]
          },
          "metadata": {
            "tags": []
          }
        }
      ]
    },
    {
      "cell_type": "markdown",
      "metadata": {
        "id": "HzEFG3VGIVu2",
        "colab_type": "text"
      },
      "source": [
        "Max voting"
      ]
    },
    {
      "cell_type": "code",
      "metadata": {
        "id": "8fFIrGRfHUYe",
        "colab_type": "code",
        "colab": {}
      },
      "source": [
        "from statistics import mode\n",
        "final_pred = np.array([])\n",
        "for i in range(0,len(X_test_tr)):\n",
        "    final_pred = np.append(final_pred, mode([y_test_xtc[i], y_pred_cvrf[i], y_pred_grf[i]]))\n",
        "downloadTarget(final_pred, 'submissionWithMaxVoting.csv')"
      ],
      "execution_count": null,
      "outputs": []
    }
  ]
}