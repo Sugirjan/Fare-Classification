{
  "nbformat": 4,
  "nbformat_minor": 0,
  "metadata": {
    "colab": {
      "name": "ML_Assignment.ipynb",
      "provenance": [],
      "authorship_tag": "ABX9TyNEHy2F+OzMH38PgXeH/nHQ",
      "include_colab_link": true
    },
    "kernelspec": {
      "name": "python3",
      "display_name": "Python 3"
    }
  },
  "cells": [
    {
      "cell_type": "markdown",
      "metadata": {
        "id": "view-in-github",
        "colab_type": "text"
      },
      "source": [
        "<a href=\"https://colab.research.google.com/github/Sugirjan/Fare-Classification/blob/master/ML_Assignment.ipynb\" target=\"_parent\"><img src=\"https://colab.research.google.com/assets/colab-badge.svg\" alt=\"Open In Colab\"/></a>"
      ]
    },
    {
      "cell_type": "code",
      "metadata": {
        "id": "CSxWNuW7YKX0",
        "colab_type": "code",
        "colab": {
          "base_uri": "https://localhost:8080/",
          "height": 72
        },
        "outputId": "2e4da011-90aa-4a49-fe12-f6cd7ee238ea"
      },
      "source": [
        "import pandas as pd\n",
        "import numpy as np\n",
        "from google.colab import drive\n",
        "from scipy.stats import randint\n",
        "from google.colab import files\n",
        "\n",
        "import matplotlib.pyplot as plt\n",
        "import seaborn as sns\n",
        "\n",
        "from sklearn.neighbors import KNeighborsClassifier\n",
        "from sklearn.linear_model import LinearRegression\n",
        "from sklearn.linear_model import LogisticRegression\n",
        "from sklearn.linear_model import Ridge\n",
        "from sklearn.tree import DecisionTreeClassifier\n",
        "from sklearn.svm import SVC\n",
        "from sklearn.ensemble import RandomForestClassifier\n",
        "from sklearn.ensemble import GradientBoostingClassifier\n",
        "from sklearn.ensemble import ExtraTreesClassifier\n",
        "from sklearn.ensemble import RandomForestRegressor\n",
        "from sklearn.svm import LinearSVC\n",
        "from sklearn.linear_model import SGDClassifier\n",
        "\n",
        "from sklearn.pipeline import Pipeline\n",
        "from sklearn.preprocessing import StandardScaler\n",
        "\n",
        "from sklearn.feature_selection import SelectFromModel\n",
        "from sklearn.feature_selection import RFE\n",
        "from sklearn.feature_selection import RFECV\n",
        "\n",
        "from sklearn.model_selection import train_test_split\n",
        "from sklearn.model_selection import GridSearchCV\n",
        "from sklearn.model_selection import RandomizedSearchCV"
      ],
      "execution_count": 1,
      "outputs": [
        {
          "output_type": "stream",
          "text": [
            "/usr/local/lib/python3.6/dist-packages/statsmodels/tools/_testing.py:19: FutureWarning: pandas.util.testing is deprecated. Use the functions in the public API at pandas.testing instead.\n",
            "  import pandas.util.testing as tm\n"
          ],
          "name": "stderr"
        }
      ]
    },
    {
      "cell_type": "code",
      "metadata": {
        "id": "xlv_x6CLYaC8",
        "colab_type": "code",
        "colab": {
          "base_uri": "https://localhost:8080/",
          "height": 125
        },
        "outputId": "22af921a-f5aa-4020-d5da-771a085fa336"
      },
      "source": [
        "drive.mount('/content/drive')"
      ],
      "execution_count": 2,
      "outputs": [
        {
          "output_type": "stream",
          "text": [
            "Go to this URL in a browser: https://accounts.google.com/o/oauth2/auth?client_id=947318989803-6bn6qk8qdgf4n4g3pfee6491hc0brc4i.apps.googleusercontent.com&redirect_uri=urn%3aietf%3awg%3aoauth%3a2.0%3aoob&response_type=code&scope=email%20https%3a%2f%2fwww.googleapis.com%2fauth%2fdocs.test%20https%3a%2f%2fwww.googleapis.com%2fauth%2fdrive%20https%3a%2f%2fwww.googleapis.com%2fauth%2fdrive.photos.readonly%20https%3a%2f%2fwww.googleapis.com%2fauth%2fpeopleapi.readonly\n",
            "\n",
            "Enter your authorization code:\n",
            "··········\n",
            "Mounted at /content/drive\n"
          ],
          "name": "stdout"
        }
      ]
    },
    {
      "cell_type": "code",
      "metadata": {
        "id": "dtP5iyUiYlKf",
        "colab_type": "code",
        "colab": {
          "base_uri": "https://localhost:8080/",
          "height": 390
        },
        "outputId": "9405b2ba-3bb0-4859-cd33-0c846a95a928"
      },
      "source": [
        "df = pd.read_csv('/content/drive/My Drive/MLAssignment/train.csv');\n",
        "df.info()"
      ],
      "execution_count": 3,
      "outputs": [
        {
          "output_type": "stream",
          "text": [
            "<class 'pandas.core.frame.DataFrame'>\n",
            "RangeIndex: 17176 entries, 0 to 17175\n",
            "Data columns (total 14 columns):\n",
            " #   Column                     Non-Null Count  Dtype  \n",
            "---  ------                     --------------  -----  \n",
            " 0   tripid                     17176 non-null  int64  \n",
            " 1   additional_fare            16974 non-null  float64\n",
            " 2   duration                   16974 non-null  float64\n",
            " 3   meter_waiting              16974 non-null  float64\n",
            " 4   meter_waiting_fare         16974 non-null  float64\n",
            " 5   meter_waiting_till_pickup  16974 non-null  float64\n",
            " 6   pickup_time                17176 non-null  object \n",
            " 7   drop_time                  17176 non-null  object \n",
            " 8   pick_lat                   17176 non-null  float64\n",
            " 9   pick_lon                   17176 non-null  float64\n",
            " 10  drop_lat                   17176 non-null  float64\n",
            " 11  drop_lon                   17176 non-null  float64\n",
            " 12  fare                       17039 non-null  float64\n",
            " 13  label                      17176 non-null  object \n",
            "dtypes: float64(10), int64(1), object(3)\n",
            "memory usage: 1.8+ MB\n"
          ],
          "name": "stdout"
        }
      ]
    },
    {
      "cell_type": "code",
      "metadata": {
        "id": "2JmyD5-sdzei",
        "colab_type": "code",
        "colab": {
          "base_uri": "https://localhost:8080/",
          "height": 390
        },
        "outputId": "d9f8b980-98d5-4e9f-f174-759b14705413"
      },
      "source": [
        "# Drop null values\n",
        "data = df.dropna()\n",
        "data.info()"
      ],
      "execution_count": 5,
      "outputs": [
        {
          "output_type": "stream",
          "text": [
            "<class 'pandas.core.frame.DataFrame'>\n",
            "Int64Index: 16968 entries, 0 to 17175\n",
            "Data columns (total 14 columns):\n",
            " #   Column                     Non-Null Count  Dtype  \n",
            "---  ------                     --------------  -----  \n",
            " 0   tripid                     16968 non-null  int64  \n",
            " 1   additional_fare            16968 non-null  float64\n",
            " 2   duration                   16968 non-null  float64\n",
            " 3   meter_waiting              16968 non-null  float64\n",
            " 4   meter_waiting_fare         16968 non-null  float64\n",
            " 5   meter_waiting_till_pickup  16968 non-null  float64\n",
            " 6   pickup_time                16968 non-null  object \n",
            " 7   drop_time                  16968 non-null  object \n",
            " 8   pick_lat                   16968 non-null  float64\n",
            " 9   pick_lon                   16968 non-null  float64\n",
            " 10  drop_lat                   16968 non-null  float64\n",
            " 11  drop_lon                   16968 non-null  float64\n",
            " 12  fare                       16968 non-null  float64\n",
            " 13  label                      16968 non-null  object \n",
            "dtypes: float64(10), int64(1), object(3)\n",
            "memory usage: 1.9+ MB\n"
          ],
          "name": "stdout"
        }
      ]
    },
    {
      "cell_type": "code",
      "metadata": {
        "id": "_hgMwRPxiyPP",
        "colab_type": "code",
        "colab": {
          "base_uri": "https://localhost:8080/",
          "height": 354
        },
        "outputId": "435c0c82-aecc-4b38-eaa0-0ebec611537f"
      },
      "source": [
        "data.pickup_time = pd.to_datetime(data.pickup_time)\n",
        "data.drop_time = pd.to_datetime(data.drop_time)\n",
        "data['time_diff'] = data.drop_time - data.pickup_time\n",
        "data['time_diff'] = data['time_diff'].astype('timedelta64[s]')\n",
        "data.shape"
      ],
      "execution_count": 6,
      "outputs": [
        {
          "output_type": "stream",
          "text": [
            "/usr/local/lib/python3.6/dist-packages/pandas/core/generic.py:5303: SettingWithCopyWarning: \n",
            "A value is trying to be set on a copy of a slice from a DataFrame.\n",
            "Try using .loc[row_indexer,col_indexer] = value instead\n",
            "\n",
            "See the caveats in the documentation: https://pandas.pydata.org/pandas-docs/stable/user_guide/indexing.html#returning-a-view-versus-a-copy\n",
            "  self[name] = value\n",
            "/usr/local/lib/python3.6/dist-packages/ipykernel_launcher.py:3: SettingWithCopyWarning: \n",
            "A value is trying to be set on a copy of a slice from a DataFrame.\n",
            "Try using .loc[row_indexer,col_indexer] = value instead\n",
            "\n",
            "See the caveats in the documentation: https://pandas.pydata.org/pandas-docs/stable/user_guide/indexing.html#returning-a-view-versus-a-copy\n",
            "  This is separate from the ipykernel package so we can avoid doing imports until\n",
            "/usr/local/lib/python3.6/dist-packages/ipykernel_launcher.py:4: SettingWithCopyWarning: \n",
            "A value is trying to be set on a copy of a slice from a DataFrame.\n",
            "Try using .loc[row_indexer,col_indexer] = value instead\n",
            "\n",
            "See the caveats in the documentation: https://pandas.pydata.org/pandas-docs/stable/user_guide/indexing.html#returning-a-view-versus-a-copy\n",
            "  after removing the cwd from sys.path.\n"
          ],
          "name": "stderr"
        },
        {
          "output_type": "execute_result",
          "data": {
            "text/plain": [
              "(16968, 15)"
            ]
          },
          "metadata": {
            "tags": []
          },
          "execution_count": 6
        }
      ]
    },
    {
      "cell_type": "code",
      "metadata": {
        "id": "XIIpQiL-0uhs",
        "colab_type": "code",
        "colab": {}
      },
      "source": [
        "import geopy.distance\n",
        "data['dist_diff'] = 0\n",
        "\n",
        "pla = np.array(data.pick_lat)\n",
        "plo = np.array(data.pick_lon)\n",
        "dla = np.array(data.drop_lat)\n",
        "dlo = np.array(data.drop_lon)\n",
        "t = []\n",
        "\n",
        "for i,j,k,l in zip(pla,plo,dla,dlo):\n",
        "  coords_1 = (i, j)\n",
        "  coords_2 = (k, l)\n",
        "  t.append(geopy.distance.distance(coords_1, coords_2).km)\n",
        "\n",
        "data['dist_diff'] = t\n",
        "data.head()"
      ],
      "execution_count": null,
      "outputs": []
    },
    {
      "cell_type": "code",
      "metadata": {
        "id": "C7d1yOwQ3tCu",
        "colab_type": "code",
        "colab": {
          "base_uri": "https://localhost:8080/",
          "height": 301
        },
        "outputId": "3aef677f-09c8-45e0-fe24-3ac7f63b37c9"
      },
      "source": [
        "data_manipulated = data.copy().drop(['pickup_time', 'drop_time', 'pick_lat', 'pick_lon', 'drop_lat', 'drop_lon','tripid'], axis=1)\n",
        "data_manipulated.info()"
      ],
      "execution_count": 8,
      "outputs": [
        {
          "output_type": "stream",
          "text": [
            "<class 'pandas.core.frame.DataFrame'>\n",
            "Int64Index: 16968 entries, 0 to 17175\n",
            "Data columns (total 9 columns):\n",
            " #   Column                     Non-Null Count  Dtype  \n",
            "---  ------                     --------------  -----  \n",
            " 0   additional_fare            16968 non-null  float64\n",
            " 1   duration                   16968 non-null  float64\n",
            " 2   meter_waiting              16968 non-null  float64\n",
            " 3   meter_waiting_fare         16968 non-null  float64\n",
            " 4   meter_waiting_till_pickup  16968 non-null  float64\n",
            " 5   fare                       16968 non-null  float64\n",
            " 6   label                      16968 non-null  object \n",
            " 7   time_diff                  16968 non-null  float64\n",
            " 8   dist_diff                  16968 non-null  float64\n",
            "dtypes: float64(8), object(1)\n",
            "memory usage: 1.3+ MB\n"
          ],
          "name": "stdout"
        }
      ]
    },
    {
      "cell_type": "markdown",
      "metadata": {
        "id": "14nISvLul79d",
        "colab_type": "text"
      },
      "source": [
        "Data visualization"
      ]
    },
    {
      "cell_type": "code",
      "metadata": {
        "id": "1CBsmrbJl7ed",
        "colab_type": "code",
        "colab": {}
      },
      "source": [
        "# for col in data_manipulated.columns:\n",
        "#   if(col in ['tripid', 'label']): \n",
        "#     continue\n",
        "#   print(col)\n",
        "#   sns.boxplot(data_manipulated)\n",
        "# sns.boxplot(data_manipulated.dist_diff)\n",
        "fig, ax = plt.subplots(figsize=(16,8))\n",
        "ax.scatter(data_manipulated.dist_diff, data_manipulated.fare)\n",
        "ax.set_xlabel('Distance')\n",
        "ax.set_ylabel('Fare')\n",
        "plt.show()"
      ],
      "execution_count": null,
      "outputs": []
    },
    {
      "cell_type": "code",
      "metadata": {
        "id": "LSeZ0Q_i8-W1",
        "colab_type": "code",
        "colab": {}
      },
      "source": [
        "# Removed outliers\n",
        "sns.boxplot(data_manipulated[data_manipulated.dist_diff < 100].dist_diff)\n",
        "# data_manipulated[data_manipulated.dist_diff > 100]."
      ],
      "execution_count": null,
      "outputs": []
    },
    {
      "cell_type": "code",
      "metadata": {
        "id": "Q7-Scu1buwnd",
        "colab_type": "code",
        "colab": {}
      },
      "source": [
        "data_manipulated.drop(['label'], axis=1).plot(kind='box', figsize=(30,10))"
      ],
      "execution_count": null,
      "outputs": []
    },
    {
      "cell_type": "code",
      "metadata": {
        "id": "wh7y8Lzrvm1E",
        "colab_type": "code",
        "colab": {}
      },
      "source": [
        "# Dropping the outlier rows with Percentiles\n",
        "# data_manipulated_out = data_manipulated\n",
        "# print(data_manipulated_out.shape)\n",
        "# cols = ['A4', 'A8', 'A12', 'A16','A20','A24','A28', 'A32']\n",
        "# for col in cols: \n",
        "#   upper_lim = features_data[col].quantile(.999)\n",
        "#   lower_lim = features_data[col].quantile(.001)\n",
        "#   features_data = features_data[(features_data[col] < upper_lim)]\n",
        "#   # features_data = features_data[(features_data[col] > lower_lim)]\n",
        "# print(features_data.shape)"
      ],
      "execution_count": null,
      "outputs": []
    },
    {
      "cell_type": "code",
      "metadata": {
        "id": "w8GPOYzo4H8e",
        "colab_type": "code",
        "colab": {}
      },
      "source": [
        "sns.scatterplot(data_manipulated.meter_waiting, data_manipulated.meter_waiting_fare, hue='label', data=data_manipulated)\n",
        "# plt.show()"
      ],
      "execution_count": null,
      "outputs": []
    },
    {
      "cell_type": "code",
      "metadata": {
        "id": "VaYG1-3uISUD",
        "colab_type": "code",
        "colab": {
          "base_uri": "https://localhost:8080/",
          "height": 301
        },
        "outputId": "28aa5190-30c1-4bec-a4b3-47643ba5de8a"
      },
      "source": [
        "data_manipulated.info()"
      ],
      "execution_count": 9,
      "outputs": [
        {
          "output_type": "stream",
          "text": [
            "<class 'pandas.core.frame.DataFrame'>\n",
            "Int64Index: 16968 entries, 0 to 17175\n",
            "Data columns (total 9 columns):\n",
            " #   Column                     Non-Null Count  Dtype  \n",
            "---  ------                     --------------  -----  \n",
            " 0   additional_fare            16968 non-null  float64\n",
            " 1   duration                   16968 non-null  float64\n",
            " 2   meter_waiting              16968 non-null  float64\n",
            " 3   meter_waiting_fare         16968 non-null  float64\n",
            " 4   meter_waiting_till_pickup  16968 non-null  float64\n",
            " 5   fare                       16968 non-null  float64\n",
            " 6   label                      16968 non-null  object \n",
            " 7   time_diff                  16968 non-null  float64\n",
            " 8   dist_diff                  16968 non-null  float64\n",
            "dtypes: float64(8), object(1)\n",
            "memory usage: 1.3+ MB\n"
          ],
          "name": "stdout"
        }
      ]
    },
    {
      "cell_type": "code",
      "metadata": {
        "id": "v59XpbEF4H5o",
        "colab_type": "code",
        "colab": {
          "base_uri": "https://localhost:8080/",
          "height": 318
        },
        "outputId": "9c3c92ed-e2d6-4279-bd9d-d0ed8b61301a"
      },
      "source": [
        "X = data_manipulated.copy().drop('label', axis=1)\n",
        "\n",
        "t = []\n",
        "\n",
        "for i in data_manipulated.label:\n",
        "  if(i == 'correct'):\n",
        "    t.append(1)\n",
        "  else:\n",
        "    t.append(0)\n",
        "\n",
        "data_manipulated['target'] = t\n",
        "y = data_manipulated['target']\n",
        "num_pipeline = Pipeline([('std_scaler', StandardScaler())])\n",
        "X_tr = num_pipeline.fit_transform(X)\n",
        "data_manipulated.info()"
      ],
      "execution_count": 10,
      "outputs": [
        {
          "output_type": "stream",
          "text": [
            "<class 'pandas.core.frame.DataFrame'>\n",
            "Int64Index: 16968 entries, 0 to 17175\n",
            "Data columns (total 10 columns):\n",
            " #   Column                     Non-Null Count  Dtype  \n",
            "---  ------                     --------------  -----  \n",
            " 0   additional_fare            16968 non-null  float64\n",
            " 1   duration                   16968 non-null  float64\n",
            " 2   meter_waiting              16968 non-null  float64\n",
            " 3   meter_waiting_fare         16968 non-null  float64\n",
            " 4   meter_waiting_till_pickup  16968 non-null  float64\n",
            " 5   fare                       16968 non-null  float64\n",
            " 6   label                      16968 non-null  object \n",
            " 7   time_diff                  16968 non-null  float64\n",
            " 8   dist_diff                  16968 non-null  float64\n",
            " 9   target                     16968 non-null  int64  \n",
            "dtypes: float64(8), int64(1), object(1)\n",
            "memory usage: 1.4+ MB\n"
          ],
          "name": "stdout"
        }
      ]
    },
    {
      "cell_type": "code",
      "metadata": {
        "id": "zuxkW8H04PFj",
        "colab_type": "code",
        "colab": {
          "base_uri": "https://localhost:8080/",
          "height": 34
        },
        "outputId": "b0544e9d-e7ab-4fe1-ba2e-6affe5328467"
      },
      "source": [
        "X_train, X_test, y_train, y_test = train_test_split(X_tr, y, test_size=0.2,random_state=42, stratify=y)\n",
        "X_train.shape"
      ],
      "execution_count": 11,
      "outputs": [
        {
          "output_type": "execute_result",
          "data": {
            "text/plain": [
              "(13574, 8)"
            ]
          },
          "metadata": {
            "tags": []
          },
          "execution_count": 11
        }
      ]
    },
    {
      "cell_type": "markdown",
      "metadata": {
        "id": "GiN5HqMWEhAd",
        "colab_type": "text"
      },
      "source": [
        "Logistic Regression"
      ]
    },
    {
      "cell_type": "code",
      "metadata": {
        "id": "FsRReg7hD9c7",
        "colab_type": "code",
        "colab": {
          "base_uri": "https://localhost:8080/",
          "height": 34
        },
        "outputId": "0caaa8ae-1dd7-49d6-b3cf-3dc4c124b400"
      },
      "source": [
        "logreg = LogisticRegression()\n",
        "logreg.fit(X_train, y_train)\n",
        "y_pred = logreg.predict(X_test) \n",
        "logreg.score(X_test, y_test)"
      ],
      "execution_count": null,
      "outputs": [
        {
          "output_type": "execute_result",
          "data": {
            "text/plain": [
              "0.9180907483794932"
            ]
          },
          "metadata": {
            "tags": []
          },
          "execution_count": 87
        }
      ]
    },
    {
      "cell_type": "markdown",
      "metadata": {
        "id": "SYe0iA3wEsWj",
        "colab_type": "text"
      },
      "source": [
        "SGD"
      ]
    },
    {
      "cell_type": "code",
      "metadata": {
        "id": "jGgqWRPVEu2r",
        "colab_type": "code",
        "colab": {
          "base_uri": "https://localhost:8080/",
          "height": 90
        },
        "outputId": "5b7d776f-6180-4634-fcb2-01cd9965245e"
      },
      "source": [
        "sgd = SGDClassifier(loss=\"hinge\", penalty=\"elasticnet\", max_iter=10)\n",
        "sgd.fit(X_train, y_train)\n",
        "y_pred = sgd.predict(X_test) \n",
        "sgd.score(X_test, y_test)"
      ],
      "execution_count": null,
      "outputs": [
        {
          "output_type": "stream",
          "text": [
            "/usr/local/lib/python3.6/dist-packages/sklearn/linear_model/_stochastic_gradient.py:557: ConvergenceWarning: Maximum number of iteration reached before convergence. Consider increasing max_iter to improve the fit.\n",
            "  ConvergenceWarning)\n"
          ],
          "name": "stderr"
        },
        {
          "output_type": "execute_result",
          "data": {
            "text/plain": [
              "0.9278137890394814"
            ]
          },
          "metadata": {
            "tags": []
          },
          "execution_count": 103
        }
      ]
    },
    {
      "cell_type": "code",
      "metadata": {
        "id": "vHb0zMr2FM-T",
        "colab_type": "code",
        "colab": {
          "base_uri": "https://localhost:8080/",
          "height": 90
        },
        "outputId": "49007266-956b-4725-f8e1-0892a6c67aad"
      },
      "source": [
        "# from sklearn.kernel_approximation import RBFSampler\n",
        "# rbf_feature = RBFSampler(gamma=1, random_state=1)\n",
        "# X_features = rbf_feature.fit_transform(X)\n",
        "# X_train, X_test, y_train, y_test = train_test_split(X_features, y, test_size=0.2,random_state=42, stratify=y)\n",
        "# sgd_rbf = SGDClassifier(loss=\"hinge\", penalty=\"l2\", max_iter=5)\n",
        "# sgd_rbf.fit(X_train, y_train)\n",
        "# y_pred = sgd_rbf.predict(X_test) \n",
        "# sgd_rbf.score(X_test, y_test)"
      ],
      "execution_count": null,
      "outputs": [
        {
          "output_type": "stream",
          "text": [
            "/usr/local/lib/python3.6/dist-packages/sklearn/linear_model/_stochastic_gradient.py:557: ConvergenceWarning: Maximum number of iteration reached before convergence. Consider increasing max_iter to improve the fit.\n",
            "  ConvergenceWarning)\n"
          ],
          "name": "stderr"
        },
        {
          "output_type": "execute_result",
          "data": {
            "text/plain": [
              "0.9101355332940483"
            ]
          },
          "metadata": {
            "tags": []
          },
          "execution_count": 84
        }
      ]
    },
    {
      "cell_type": "code",
      "metadata": {
        "id": "6JwewCaaJtYD",
        "colab_type": "code",
        "colab": {
          "base_uri": "https://localhost:8080/",
          "height": 34
        },
        "outputId": "b81a5144-e5a1-4237-d491-868425afc563"
      },
      "source": [
        "randomForestselect = SelectFromModel(RandomForestClassifier(n_estimators=250, random_state=0, n_jobs=-1))\n",
        "randomForestselect.fit(X_train, y_train)\n",
        "X_train_rfc = randomForestselect.transform(X_train)\n",
        "X_test_rfc = randomForestselect.transform(X_test)\n",
        "rf = RandomForestClassifier(n_estimators=250, random_state=0, n_jobs=-1)\n",
        "rf.fit(X_train_rfc,y_train)\n",
        "rf.score(X_test_rfc, y_test)"
      ],
      "execution_count": null,
      "outputs": [
        {
          "output_type": "execute_result",
          "data": {
            "text/plain": [
              "0.952857984678845"
            ]
          },
          "metadata": {
            "tags": []
          },
          "execution_count": 104
        }
      ]
    },
    {
      "cell_type": "code",
      "metadata": {
        "id": "fqgBdFO3J3ht",
        "colab_type": "code",
        "colab": {
          "base_uri": "https://localhost:8080/",
          "height": 107
        },
        "outputId": "42a1cbcb-eca6-4d83-e8dc-028f0aee3a5d"
      },
      "source": [
        "ls_select = SelectFromModel(LinearSVC(penalty=\"l1\", dual=False))\n",
        "ls_select.fit(X_train, y_train)\n",
        "X_train_ls = ls_select.transform(X_train)\n",
        "X_test_ls = ls_select.transform(X_test)\n",
        "rf = RandomForestClassifier(n_estimators=100, random_state=0, n_jobs=-1)\n",
        "rf.fit(X_train_ls,y_train)\n",
        "print('with RF',rf.score(X_test_ls, y_test))\n",
        "xtc = ExtraTreesClassifier(n_estimators=50)\n",
        "xtc.fit(X_train_ls,y_train)\n",
        "print('with XTC', xtc.score(X_test_ls, y_test))"
      ],
      "execution_count": null,
      "outputs": [
        {
          "output_type": "stream",
          "text": [
            "/usr/local/lib/python3.6/dist-packages/sklearn/svm/_base.py:947: ConvergenceWarning: Liblinear failed to converge, increase the number of iterations.\n",
            "  \"the number of iterations.\", ConvergenceWarning)\n"
          ],
          "name": "stderr"
        },
        {
          "output_type": "stream",
          "text": [
            "with RF 0.9534472598703595\n",
            "with XTC 0.9525633470830878\n"
          ],
          "name": "stdout"
        }
      ]
    },
    {
      "cell_type": "code",
      "metadata": {
        "id": "pAHf3hhHKFy2",
        "colab_type": "code",
        "colab": {
          "base_uri": "https://localhost:8080/",
          "height": 52
        },
        "outputId": "d133e7ed-a916-4042-9624-e16dfc4af771"
      },
      "source": [
        "xtc_select = SelectFromModel(ExtraTreesClassifier(n_estimators=50))\n",
        "xtc_select.fit(X_train, y_train)\n",
        "X_train_xtc = xtc_select.transform(X_train)\n",
        "X_test_xtc = xtc_select.transform(X_test)\n",
        "rf = RandomForestClassifier(n_estimators=100, random_state=0, n_jobs=-1)\n",
        "rf.fit(X_train_xtc,y_train)\n",
        "print('with RF',rf.score(X_test_xtc, y_test))\n",
        "xtc = ExtraTreesClassifier(n_estimators=50)\n",
        "xtc.fit(X_train_xtc,y_train)\n",
        "print('with XTC', xtc.score(X_test_xtc, y_test))"
      ],
      "execution_count": null,
      "outputs": [
        {
          "output_type": "stream",
          "text": [
            "with RF 0.9540365350618739\n",
            "with XTC 0.9499116087212728\n"
          ],
          "name": "stdout"
        }
      ]
    },
    {
      "cell_type": "code",
      "metadata": {
        "id": "-2ryQFQ3KKOG",
        "colab_type": "code",
        "colab": {
          "base_uri": "https://localhost:8080/",
          "height": 52
        },
        "outputId": "eb67e012-9263-4833-e3e2-51ee4d709da1"
      },
      "source": [
        "selector = RFECV(GradientBoostingClassifier(n_estimators=100, max_depth=32, random_state=0))\n",
        "selector.fit(X_train, y_train)\n",
        "X_train_Grad_RFE = selector.transform(X_train)\n",
        "X_test_Grad_RFE = selector.transform(X_test)\n",
        "gf = GradientBoostingClassifier(n_estimators=100, random_state=0)\n",
        "gf.fit(X_train_Grad_RFE, y_train)\n",
        "print('gf', gf.score(X_test_Grad_RFE, y_test))\n",
        "rf = RandomForestClassifier(n_estimators=100,max_depth=32, random_state=0, n_jobs=-1)\n",
        "rf.fit(X_train_Grad_RFE,y_train)\n",
        "print('rf', rf.score(X_test_Grad_RFE, y_test))"
      ],
      "execution_count": null,
      "outputs": [
        {
          "output_type": "stream",
          "text": [
            "gf 0.9478491455509723\n",
            "rf 0.9543311726576311\n"
          ],
          "name": "stdout"
        }
      ]
    },
    {
      "cell_type": "code",
      "metadata": {
        "id": "KYGxVqxBKWb-",
        "colab_type": "code",
        "colab": {
          "base_uri": "https://localhost:8080/",
          "height": 52
        },
        "outputId": "6725c07e-a318-48e6-ee0b-82592b2e9088"
      },
      "source": [
        "parameters = {\n",
        "    \"n_estimators\":[100, 200, 300],\n",
        "    \"max_depth\":[16,32,64,None],\n",
        "}\n",
        "rf1 = RandomForestClassifier()\n",
        "cv_rf = GridSearchCV(rf1,parameters,cv=5)\n",
        "cv_rf.fit(X_train, y_train)\n",
        "print(cv_rf.score(X_test, y_test))\n",
        "print(\"Tuned Decision Tree Parameters: {}\".format(cv_rf.best_params_))"
      ],
      "execution_count": null,
      "outputs": [
        {
          "output_type": "stream",
          "text": [
            "0.9537418974661167\n",
            "Tuned Decision Tree Parameters: {'max_depth': 64, 'n_estimators': 300}\n"
          ],
          "name": "stdout"
        }
      ]
    },
    {
      "cell_type": "code",
      "metadata": {
        "id": "j35PtrlFKglo",
        "colab_type": "code",
        "colab": {
          "base_uri": "https://localhost:8080/",
          "height": 34
        },
        "outputId": "585668d8-cee9-4362-dd8f-7a6ee4b51248"
      },
      "source": [
        "selector = RFE(RandomForestClassifier(n_estimators=100, max_depth= 64, n_jobs=-1),step=1)\n",
        "selector.fit(X_train, y_train)\n",
        "X_train_Grad_RFELoop = selector.transform(X_train)\n",
        "X_test_Grad_RFELoop = selector.transform(X_test)\n",
        "rf = RandomForestClassifier(n_estimators=300, max_depth= 64, n_jobs=-1)\n",
        "rf.fit(X_train_Grad_RFELoop,y_train)\n",
        "print('rf', rf.score(X_test_Grad_RFELoop, y_test))"
      ],
      "execution_count": null,
      "outputs": [
        {
          "output_type": "stream",
          "text": [
            "rf 0.9525633470830878\n"
          ],
          "name": "stdout"
        }
      ]
    },
    {
      "cell_type": "markdown",
      "metadata": {
        "id": "-R1-GjzCK9wP",
        "colab_type": "text"
      },
      "source": [
        "For submisssion"
      ]
    },
    {
      "cell_type": "code",
      "metadata": {
        "id": "mAZFDuKPLDET",
        "colab_type": "code",
        "colab": {
          "base_uri": "https://localhost:8080/",
          "height": 34
        },
        "outputId": "f7b042e2-ed5d-44b9-f167-a77282465044"
      },
      "source": [
        "test_submission = pd.read_csv('/content/drive/My Drive/MLAssignment/test.csv');\n",
        "test_submission.shape"
      ],
      "execution_count": null,
      "outputs": [
        {
          "output_type": "execute_result",
          "data": {
            "text/plain": [
              "(8576, 13)"
            ]
          },
          "metadata": {
            "tags": []
          },
          "execution_count": 127
        }
      ]
    },
    {
      "cell_type": "code",
      "metadata": {
        "id": "gQweju_iLhgG",
        "colab_type": "code",
        "colab": {}
      },
      "source": [
        "def downloadTarget(target, fileName):\n",
        "  submission = pd.DataFrame(target, columns=['prediction'])\n",
        "  submission['tripid'] = test_submission.tripid\n",
        "  submission.to_csv(fileName) \n",
        "  files.download(fileName)"
      ],
      "execution_count": null,
      "outputs": []
    },
    {
      "cell_type": "code",
      "metadata": {
        "id": "aRGtWQPzM20b",
        "colab_type": "code",
        "colab": {}
      },
      "source": [
        "def feature_selection(data):\n",
        "  data.pickup_time = pd.to_datetime(data.pickup_time)\n",
        "  data.drop_time = pd.to_datetime(data.drop_time)\n",
        "  data['time_diff'] = data.drop_time - data.pickup_time\n",
        "  data['time_diff'] = data['time_diff'].astype('timedelta64[s]')\n",
        "\n",
        "  data['dist_diff'] = 0\n",
        "\n",
        "  pla = np.array(data.pick_lat)\n",
        "  plo = np.array(data.pick_lon)\n",
        "  dla = np.array(data.drop_lat)\n",
        "  dlo = np.array(data.drop_lon)\n",
        "  t = []\n",
        "\n",
        "  for i,j,k,l in zip(pla,plo,dla,dlo):\n",
        "    coords_1 = (i, j)\n",
        "    coords_2 = (k, l)\n",
        "    t.append(geopy.distance.distance(coords_1, coords_2).km)\n",
        "\n",
        "  data['dist_diff'] = t\n",
        "\n",
        "  data_manipulated = data.copy().drop(['pickup_time', 'drop_time', 'pick_lat', 'pick_lon', 'drop_lat', 'drop_lon', 'tripid'], axis=1)\n",
        "  return data_manipulated"
      ],
      "execution_count": null,
      "outputs": []
    },
    {
      "cell_type": "code",
      "metadata": {
        "id": "qCUCurKvR9YW",
        "colab_type": "code",
        "colab": {
          "base_uri": "https://localhost:8080/",
          "height": 34
        },
        "outputId": "8e572c1a-79ec-4ce8-d1af-5f5b90ce064d"
      },
      "source": [
        "X.shape"
      ],
      "execution_count": null,
      "outputs": [
        {
          "output_type": "execute_result",
          "data": {
            "text/plain": [
              "(16968, 8)"
            ]
          },
          "metadata": {
            "tags": []
          },
          "execution_count": 130
        }
      ]
    },
    {
      "cell_type": "code",
      "metadata": {
        "id": "oTz2DtXwOaT6",
        "colab_type": "code",
        "colab": {}
      },
      "source": [
        "manipulated_data1 = feature_selection(test_submission)\n",
        "X_test = manipulated_data1\n",
        "\n",
        "sc = StandardScaler()\n",
        "sc.fit(X)\n",
        "X_tr = sc.transform(X)\n",
        "X_test_tr = sc.transform(X_test)\n"
      ],
      "execution_count": null,
      "outputs": []
    },
    {
      "cell_type": "code",
      "metadata": {
        "id": "g8tbd420OHB4",
        "colab_type": "code",
        "colab": {
          "base_uri": "https://localhost:8080/",
          "height": 33
        },
        "outputId": "f7f51356-ba05-4c09-a3a2-bbe238d1cb0a"
      },
      "source": [
        "xtc_select = SelectFromModel(ExtraTreesClassifier(n_estimators=50))\n",
        "xtc_select.fit(X_tr, y)\n",
        "X_train_xtc = xtc_select.transform(X_tr)\n",
        "xtc = ExtraTreesClassifier(n_estimators=50)\n",
        "xtc.fit(X_train_xtc,y)\n",
        "y_test_xtc = xtc.predict(xtc_select.transform(X_test_tr))\n",
        "downloadTarget(y_test_xtc, 'submissionWithRFWithXTC-XTC.csv')"
      ],
      "execution_count": null,
      "outputs": [
        {
          "output_type": "display_data",
          "data": {
            "application/javascript": [
              "\n",
              "    async function download(id, filename, size) {\n",
              "      if (!google.colab.kernel.accessAllowed) {\n",
              "        return;\n",
              "      }\n",
              "      const div = document.createElement('div');\n",
              "      const label = document.createElement('label');\n",
              "      label.textContent = `Downloading \"${filename}\": `;\n",
              "      div.appendChild(label);\n",
              "      const progress = document.createElement('progress');\n",
              "      progress.max = size;\n",
              "      div.appendChild(progress);\n",
              "      document.body.appendChild(div);\n",
              "\n",
              "      const buffers = [];\n",
              "      let downloaded = 0;\n",
              "\n",
              "      const channel = await google.colab.kernel.comms.open(id);\n",
              "      // Send a message to notify the kernel that we're ready.\n",
              "      channel.send({})\n",
              "\n",
              "      for await (const message of channel.messages) {\n",
              "        // Send a message to notify the kernel that we're ready.\n",
              "        channel.send({})\n",
              "        if (message.buffers) {\n",
              "          for (const buffer of message.buffers) {\n",
              "            buffers.push(buffer);\n",
              "            downloaded += buffer.byteLength;\n",
              "            progress.value = downloaded;\n",
              "          }\n",
              "        }\n",
              "      }\n",
              "      const blob = new Blob(buffers, {type: 'application/binary'});\n",
              "      const a = document.createElement('a');\n",
              "      a.href = window.URL.createObjectURL(blob);\n",
              "      a.download = filename;\n",
              "      div.appendChild(a);\n",
              "      a.click();\n",
              "      div.remove();\n",
              "    }\n",
              "  "
            ],
            "text/plain": [
              "<IPython.core.display.Javascript object>"
            ]
          },
          "metadata": {
            "tags": []
          }
        },
        {
          "output_type": "display_data",
          "data": {
            "application/javascript": [
              "download(\"download_c42f838b-4b6f-41fb-9c25-638605dc49a7\", \"submissionWithRFWithXTC-XTC.csv\", 144701)"
            ],
            "text/plain": [
              "<IPython.core.display.Javascript object>"
            ]
          },
          "metadata": {
            "tags": []
          }
        }
      ]
    }
  ]
}